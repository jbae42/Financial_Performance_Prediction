{
 "cells": [
  {
   "cell_type": "code",
   "execution_count": 3,
   "metadata": {},
   "outputs": [],
   "source": [
    "### In this approach, we will first remove outliers (point that has large\n",
    "### distance from local density)\n",
    "### Reference for this approach: Kaggle (Dr.FraNKeNSTeiN)"
   ]
  },
  {
   "cell_type": "code",
   "execution_count": 124,
   "metadata": {},
   "outputs": [],
   "source": [
    "import pandas as pd\n",
    "import numpy as np\n",
    "from sklearn.neighbors import LocalOutlierFactor\n",
    "from sklearn.model_selection import train_test_split, GridSearchCV, cross_val_score, RandomizedSearchCV\n",
    "from sklearn.linear_model import LogisticRegression\n",
    "from sklearn.metrics import confusion_matrix, accuracy_score, classification_report\n",
    "from sklearn.ensemble import RandomForestClassifier, AdaBoostClassifier, GradientBoostingClassifier\n",
    "from scipy.stats import randint\n",
    "import xgboost as xgb\n",
    "import matplotlib.pyplot as plt"
   ]
  },
  {
   "cell_type": "code",
   "execution_count": 51,
   "metadata": {},
   "outputs": [],
   "source": [
    "df = pd.read_csv(\"loan-train.csv\")"
   ]
  },
  {
   "cell_type": "code",
   "execution_count": 52,
   "metadata": {},
   "outputs": [],
   "source": [
    "df=df.dropna()\n",
    "df=df.drop('Loan_ID',axis=1)"
   ]
  },
  {
   "cell_type": "code",
   "execution_count": 7,
   "metadata": {},
   "outputs": [],
   "source": [
    "# Before we remove outliers, let's assign numerical values to our categorical data"
   ]
  },
  {
   "cell_type": "code",
   "execution_count": 53,
   "metadata": {},
   "outputs": [],
   "source": [
    "Gender_code = {'Male': 0, 'Female':1}\n",
    "Married_code = {'Yes':1, 'No':0}\n",
    "Education_code = {'Graduate':1, 'Not Graduate':0}\n",
    "Self_Employed_code = {'Yes':1,'No':0}\n",
    "Dependents_code = {\"0\":0,\"1\":1,'2':2,\"3+\":3}\n",
    "Loan_Status_code ={\"Y\":1, \"N\":0}\n",
    "Rural_code = {\"Rural\":1, 'Urban':0, 'Semiurban':0}\n",
    "Urban_code = {\"Rural\":0, 'Urban':1, 'Semiurban':0}\n",
    "Semiurban_code = {\"Rural\":0, 'Urban':0, 'Semiurban':1}"
   ]
  },
  {
   "cell_type": "code",
   "execution_count": 54,
   "metadata": {},
   "outputs": [],
   "source": [
    "df['Gender'] = df.Gender.map(Gender_code)\n",
    "df['Married'] = df.Married.map(Married_code)\n",
    "df['Education'] = df.Education.map(Education_code)\n",
    "df['Self_Employed'] = df.Self_Employed.map(Self_Employed_code)\n",
    "df['Dependents'] = df.Dependents.map(Dependents_code)\n",
    "df['Loan_Status'] = df.Loan_Status.map(Loan_Status_code)\n",
    "df['Rural_Region'] = df.Property_Area.map(Rural_code)\n",
    "df['Urban_Region'] = df.Property_Area.map(Urban_code)\n",
    "df['Semiurban_Region'] = df.Property_Area.map(Semiurban_code)\n",
    "df=df.drop('Property_Area',axis=1)"
   ]
  },
  {
   "cell_type": "code",
   "execution_count": 59,
   "metadata": {},
   "outputs": [],
   "source": [
    "# Now let's work on removing outliers"
   ]
  },
  {
   "cell_type": "code",
   "execution_count": 60,
   "metadata": {},
   "outputs": [],
   "source": [
    "out_factor = LocalOutlierFactor(n_neighbors = 20, contamination=0.1)"
   ]
  },
  {
   "cell_type": "code",
   "execution_count": 61,
   "metadata": {},
   "outputs": [
    {
     "data": {
      "text/plain": [
       "LocalOutlierFactor(contamination=0.1)"
      ]
     },
     "execution_count": 61,
     "metadata": {},
     "output_type": "execute_result"
    }
   ],
   "source": [
    "out_factor.fit(df)"
   ]
  },
  {
   "cell_type": "code",
   "execution_count": 112,
   "metadata": {
    "scrolled": true
   },
   "outputs": [],
   "source": [
    "out_score = out_factor.negative_outlier_factor_"
   ]
  },
  {
   "cell_type": "code",
   "execution_count": 69,
   "metadata": {},
   "outputs": [],
   "source": [
    "thresh_val = np.sort(out_score)[14]\n",
    "df_cleaned = df[out_score >= thresh_val]"
   ]
  },
  {
   "cell_type": "code",
   "execution_count": 72,
   "metadata": {},
   "outputs": [],
   "source": [
    "X = df_cleaned.drop('Loan_Status',axis=1)\n",
    "y = df_cleaned['Loan_Status']"
   ]
  },
  {
   "cell_type": "code",
   "execution_count": 74,
   "metadata": {},
   "outputs": [],
   "source": [
    "## Now we are ready to normalize our dataset"
   ]
  },
  {
   "cell_type": "code",
   "execution_count": 79,
   "metadata": {},
   "outputs": [],
   "source": [
    "X = (X-np.min(X)) / (np.max(X)-np.min(X)).values"
   ]
  },
  {
   "cell_type": "code",
   "execution_count": 80,
   "metadata": {},
   "outputs": [],
   "source": [
    "## Let's now split the data"
   ]
  },
  {
   "cell_type": "code",
   "execution_count": 82,
   "metadata": {},
   "outputs": [],
   "source": [
    "X_train,X_test,y_train,y_test = train_test_split(X,y,test_size=0.2,random_state=42)"
   ]
  },
  {
   "cell_type": "code",
   "execution_count": 83,
   "metadata": {},
   "outputs": [],
   "source": [
    "#1. Logistic Regression"
   ]
  },
  {
   "cell_type": "code",
   "execution_count": 115,
   "metadata": {},
   "outputs": [
    {
     "name": "stdout",
     "output_type": "stream",
     "text": [
      "90.43%\n"
     ]
    }
   ],
   "source": [
    "lg = LogisticRegression(solver='liblinear')\n",
    "lg.fit(X_train,y_train)\n",
    "y_pred = lg.predict(X_test)\n",
    "lg_accuracy = accuracy_score(y_test,y_pred)\n",
    "print(str(round(lg_accuracy*100,2))+\"%\")"
   ]
  },
  {
   "cell_type": "code",
   "execution_count": null,
   "metadata": {},
   "outputs": [],
   "source": [
    "#2. Random Forest"
   ]
  },
  {
   "cell_type": "code",
   "execution_count": 116,
   "metadata": {},
   "outputs": [
    {
     "name": "stdout",
     "output_type": "stream",
     "text": [
      "80.85%\n"
     ]
    }
   ],
   "source": [
    "rfc = RandomForestClassifier(n_estimators = 10, criterion = 'entropy', random_state = 50)\n",
    "rfc.fit(X_train, y_train)\n",
    "y_pred1 = rfc.predict(X_test)\n",
    "rfc_accuracy = accuracy_score(y_test,y_pred1)\n",
    "print(str(round(rfc_accuracy*100,2))+\"%\")"
   ]
  },
  {
   "cell_type": "code",
   "execution_count": 131,
   "metadata": {},
   "outputs": [
    {
     "data": {
      "text/plain": [
       "Text(0.5, 0, 'Level of Significance')"
      ]
     },
     "execution_count": 131,
     "metadata": {},
     "output_type": "execute_result"
    },
    {
     "data": {
      "image/png": "[encoded data removed]",
      "text/plain": [
       "<Figure size 432x288 with 1 Axes>"
      ]
     },
     "metadata": {
      "needs_background": "light"
     },
     "output_type": "display_data"
    }
   ],
   "source": [
    "importance = pd.DataFrame({\"Importance\": rfc.feature_importances_*100},\n",
    "                         index = X_train.columns)\n",
    "importance.sort_values(by='Importance',axis=0,ascending=True).plot(kind='barh',color='blue')\n",
    "plt.xlabel('Level of Significance')"
   ]
  },
  {
   "cell_type": "code",
   "execution_count": 92,
   "metadata": {},
   "outputs": [],
   "source": [
    "est = RandomForestClassifier(n_jobs=-1)\n",
    "rf_p_dist={'max_depth':[3,5,10,None],\n",
    "          'n_estimators':[100,200,300,400,500],\n",
    "           'max_features':randint(1,11),\n",
    "           'criterion':['gini','entropy'],\n",
    "           'bootstrap':[True,False],\n",
    "           'min_samples_leaf':randint(1,4),\n",
    "          }\n",
    "\n",
    "def hypertuning_rscv(est, p_distr, nbr_iter,X,y):\n",
    "    rdmsearch = RandomizedSearchCV(est, param_distributions=p_distr,\n",
    "                              n_jobs=-1, n_iter=nbr_iter, cv=9)\n",
    "    rdmsearch.fit(X,y)\n",
    "    ht_params = rdmsearch.best_params_\n",
    "    ht_score = rdmsearch.best_score_\n",
    "    return ht_params, ht_score"
   ]
  },
  {
   "cell_type": "code",
   "execution_count": 95,
   "metadata": {},
   "outputs": [],
   "source": [
    "rf_parameters, rf_ht_score = hypertuning_rscv(est, rf_p_dist, 40, X, y)"
   ]
  },
  {
   "cell_type": "code",
   "execution_count": 96,
   "metadata": {},
   "outputs": [
    {
     "data": {
      "text/plain": [
       "{'bootstrap': False,\n",
       " 'criterion': 'gini',\n",
       " 'max_depth': 5,\n",
       " 'max_features': 5,\n",
       " 'min_samples_leaf': 1,\n",
       " 'n_estimators': 200}"
      ]
     },
     "execution_count": 96,
     "metadata": {},
     "output_type": "execute_result"
    }
   ],
   "source": [
    "rf_parameters"
   ]
  },
  {
   "cell_type": "code",
   "execution_count": 117,
   "metadata": {},
   "outputs": [
    {
     "name": "stdout",
     "output_type": "stream",
     "text": [
      "87.23%\n"
     ]
    }
   ],
   "source": [
    "rfc2 = RandomForestClassifier(bootstrap=False,n_estimators = 200, criterion = 'gini', max_depth=5, max_features = 5, min_samples_leaf=1,random_state = 50)\n",
    "rfc2.fit(X_train, y_train)\n",
    "y_pred2 = rfc2.predict(X_test)\n",
    "rfc2_accuracy = accuracy_score(y_test,y_pred2)\n",
    "print(str(round(rfc2_accuracy*100,2))+\"%\")"
   ]
  },
  {
   "cell_type": "code",
   "execution_count": 126,
   "metadata": {},
   "outputs": [
    {
     "data": {
      "text/plain": [
       "Text(0.5, 0, 'Level of Significance')"
      ]
     },
     "execution_count": 126,
     "metadata": {},
     "output_type": "execute_result"
    },
    {
     "data": {
      "image/png": "[encoded data removed]",
      "text/plain": [
       "<Figure size 432x288 with 1 Axes>"
      ]
     },
     "metadata": {
      "needs_background": "light"
     },
     "output_type": "display_data"
    }
   ],
   "source": [
    "importance = pd.DataFrame({\"Importance\": rfc2.feature_importances_*100},\n",
    "                         index = X_train.columns)\n",
    "importance.sort_values(by='Importance',axis=0,ascending=True).plot(kind='barh',color='blue')\n",
    "plt.xlabel('Level of Significance')"
   ]
  },
  {
   "cell_type": "code",
   "execution_count": null,
   "metadata": {},
   "outputs": [],
   "source": [
    "#3. ADABoost"
   ]
  },
  {
   "cell_type": "code",
   "execution_count": 118,
   "metadata": {},
   "outputs": [
    {
     "name": "stdout",
     "output_type": "stream",
     "text": [
      "89.36%\n"
     ]
    }
   ],
   "source": [
    "ada = AdaBoostClassifier(n_estimators=300, random_state=42, learning_rate=.01)\n",
    "ada.fit(X_train, y_train)\n",
    "y_pred3 = ada.predict(X_test)\n",
    "ada_accuracy = accuracy_score(y_test,y_pred3)\n",
    "print(str(round(ada_accuracy*100,2))+\"%\")"
   ]
  },
  {
   "cell_type": "code",
   "execution_count": 127,
   "metadata": {},
   "outputs": [
    {
     "data": {
      "text/plain": [
       "Text(0.5, 0, 'Level of Significance')"
      ]
     },
     "execution_count": 127,
     "metadata": {},
     "output_type": "execute_result"
    },
    {
     "data": {
      "image/png": "[encoded data removed]",
      "text/plain": [
       "<Figure size 432x288 with 1 Axes>"
      ]
     },
     "metadata": {
      "needs_background": "light"
     },
     "output_type": "display_data"
    }
   ],
   "source": [
    "importance = pd.DataFrame({\"Importance\": ada.feature_importances_*100},\n",
    "                         index = X_train.columns)\n",
    "importance.sort_values(by='Importance',axis=0,ascending=True).plot(kind='barh',color='blue')\n",
    "plt.xlabel('Level of Significance')"
   ]
  },
  {
   "cell_type": "code",
   "execution_count": null,
   "metadata": {},
   "outputs": [],
   "source": [
    "#4.Gradient Boost"
   ]
  },
  {
   "cell_type": "code",
   "execution_count": 119,
   "metadata": {},
   "outputs": [
    {
     "name": "stdout",
     "output_type": "stream",
     "text": [
      "88.3%\n"
     ]
    }
   ],
   "source": [
    "gbc = GradientBoostingClassifier(n_estimators=300, random_state=42, learning_rate=.01)\n",
    "gbc.fit(X_train,y_train)\n",
    "y_pred4 = gbc.predict(X_test)\n",
    "gbc_accuracy = accuracy_score(y_test,y_pred4)\n",
    "print(str(round(gbc_accuracy*100,2))+\"%\")"
   ]
  },
  {
   "cell_type": "code",
   "execution_count": 129,
   "metadata": {},
   "outputs": [
    {
     "data": {
      "text/plain": [
       "Text(0.5, 0, 'Level of Significance')"
      ]
     },
     "execution_count": 129,
     "metadata": {},
     "output_type": "execute_result"
    },
    {
     "data": {
      "image/png": "[encoded data removed]",
      "text/plain": [
       "<Figure size 432x288 with 1 Axes>"
      ]
     },
     "metadata": {
      "needs_background": "light"
     },
     "output_type": "display_data"
    }
   ],
   "source": [
    "importance = pd.DataFrame({\"Importance\": gbc.feature_importances_*100},\n",
    "                         index = X_train.columns)\n",
    "importance.sort_values(by='Importance',axis=0,ascending=True).plot(kind='barh',color='blue')\n",
    "plt.xlabel('Level of Significance')"
   ]
  },
  {
   "cell_type": "code",
   "execution_count": null,
   "metadata": {},
   "outputs": [],
   "source": [
    "#5. XGBoost"
   ]
  },
  {
   "cell_type": "code",
   "execution_count": 120,
   "metadata": {},
   "outputs": [
    {
     "name": "stderr",
     "output_type": "stream",
     "text": [
      "C:\\Users\\Andrew\\anaconda3\\lib\\site-packages\\xgboost\\sklearn.py:888: UserWarning: The use of label encoder in XGBClassifier is deprecated and will be removed in a future release. To remove this warning, do the following: 1) Pass option use_label_encoder=False when constructing XGBClassifier object; and 2) Encode your labels (y) as integers starting with 0, i.e. 0, 1, 2, ..., [num_class - 1].\n",
      "  warnings.warn(label_encoder_deprecation_msg, UserWarning)\n"
     ]
    },
    {
     "name": "stdout",
     "output_type": "stream",
     "text": [
      "[09:25:33] WARNING: C:/Users/Administrator/workspace/xgboost-win64_release_1.3.0/src/learner.cc:1061: Starting in XGBoost 1.3.0, the default evaluation metric used with the objective 'binary:logistic' was changed from 'error' to 'logloss'. Explicitly set eval_metric if you'd like to restore the old behavior.\n",
      "90.43%\n"
     ]
    }
   ],
   "source": [
    "xgc = xgb.XGBClassifier(n_estimators=300, random_state=42, learning_rate=.01)\n",
    "xgc.fit(X_train,y_train)\n",
    "y_pred5 = xgc.predict(X_test)\n",
    "xgc_accuracy = accuracy_score(y_test,y_pred5)\n",
    "print(str(round(xgc_accuracy*100,2))+\"%\")"
   ]
  },
  {
   "cell_type": "code",
   "execution_count": 132,
   "metadata": {},
   "outputs": [
    {
     "data": {
      "text/plain": [
       "Text(0.5, 0, 'Level of Significance')"
      ]
     },
     "execution_count": 132,
     "metadata": {},
     "output_type": "execute_result"
    },
    {
     "data": {
      "image/png": "[encoded data removed]",
      "text/plain": [
       "<Figure size 432x288 with 1 Axes>"
      ]
     },
     "metadata": {
      "needs_background": "light"
     },
     "output_type": "display_data"
    }
   ],
   "source": [
    "importance = pd.DataFrame({\"Importance\": xgc.feature_importances_*100},\n",
    "                         index = X_train.columns)\n",
    "importance.sort_values(by='Importance',axis=0,ascending=True).plot(kind='barh',color='blue')\n",
    "plt.xlabel('Level of Significance')"
   ]
  },
  {
   "cell_type": "code",
   "execution_count": 133,
   "metadata": {},
   "outputs": [
    {
     "data": {
      "text/plain": [
       "array([ 2.9373448,  3.3156817,  4.3799734,  5.1131105,  2.0539527,\n",
       "        4.1683683,  4.319152 ,  4.2194257,  4.223402 , 56.3653   ,\n",
       "        2.9948196,  0.8095975,  5.0998697], dtype=float32)"
      ]
     },
     "execution_count": 133,
     "metadata": {},
     "output_type": "execute_result"
    }
   ],
   "source": [
    "xgc.feature_importances_*100"
   ]
  }
 ],
 "metadata": {
  "kernelspec": {
   "display_name": "Python 3",
   "language": "python",
   "name": "python3"
  },
  "language_info": {
   "codemirror_mode": {
    "name": "ipython",
    "version": 3
   },
   "file_extension": ".py",
   "mimetype": "text/x-python",
   "name": "python",
   "nbconvert_exporter": "python",
   "pygments_lexer": "ipython3",
   "version": "3.8.5"
  }
 },
 "nbformat": 4,
 "nbformat_minor": 4
}
